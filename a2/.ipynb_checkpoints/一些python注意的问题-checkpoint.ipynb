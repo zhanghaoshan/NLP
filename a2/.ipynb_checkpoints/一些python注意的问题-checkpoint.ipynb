{
 "cells": [
  {
   "cell_type": "markdown",
   "metadata": {},
   "source": [
    "# 一、可变对象和不可变对象\n",
    "### 1分类\n",
    "可变对象：list,dict,set\n",
    "\n",
    "不可变对象：int,float,tuple,str,bool\n",
    "### 2定义\n",
    "不可变对象：对象所指向的内存值不能改变。当改变变量时，实际是重新开辟一段内存空间赋值，变量指向新的内存空间，变量原来指向的内存空间值没有改变。\n",
    "\n",
    "可变对象：对象所指向的内存值可以改变。当改变变量时，直接在变量原来指向的内存空间做出对应修改，变量的指向不发生改变。\n",
    "\n",
    "### 3作为函数参数\n",
    "可变的对象作为函数参数：传递的是引用，也就是变量本身，在函数中的改变会产生影响。\n",
    "\n",
    "不可变对象作为函数参数：传递的是内容，也就是c中的形式参数，在函数内部的改变不会对变量产生影响。\n",
    "\n",
    "\n",
    "\n",
    "\n"
   ]
  },
  {
   "cell_type": "code",
   "execution_count": 1,
   "metadata": {},
   "outputs": [
    {
     "name": "stdout",
     "output_type": "stream",
     "text": [
      "[1, 2, 3, 4, 5]\n",
      "zhang\n"
     ]
    }
   ],
   "source": [
    "#eg1:list和string的对比\n",
    "l=[1,2,3,4]\n",
    "s=\"zhang\"\n",
    "def change1(alist):\n",
    "    alist.append(5)\n",
    "def change2(astring):\n",
    "    astring.upper()\n",
    "    \n",
    "change1(l)\n",
    "change2(s)\n",
    "print(l)\n",
    "print(s)"
   ]
  },
  {
   "cell_type": "code",
   "execution_count": 2,
   "metadata": {},
   "outputs": [
    {
     "name": "stdout",
     "output_type": "stream",
     "text": [
      "['a', 'b', 'c', 'a', 'b', 'c']\n",
      "['a', 'b', 'c']\n"
     ]
    }
   ],
   "source": [
    "#eg2:一个list的不变得问题\n",
    "l=['a','b','c']\n",
    "def change1(alist):\n",
    "    alist=alist*2\n",
    "    print(alist)\n",
    "change1(l)\n",
    "print(l)\n",
    "#这里为什么l没有发生变化？\n",
    "#在alist=alist*2这里，因为list是可变变量，所以执行这句话的顺序是，系统开辟一段内存空间，写入alist*2,之后alist指向这段内存空间。\n",
    "#所以这里尽管传入的alist是l的引用，但是在这句话中alist实际已经改变了指向，所以原来的l没有变成2*l。\n",
    "#对比上一个代码，alist.append()则是直接对内存空间做出改变，所以l发生了变化。"
   ]
  },
  {
   "cell_type": "markdown",
   "metadata": {},
   "source": [
    "## 4作为左值\n",
    "可变对象作为左值，实际没有开辟新的内存空间，而是改变了可变对象的指向。所以list作为左值参与赋值语句，要小心改变了不想改变的东西。\n",
    "\n",
    "不可变对象作为左值，实际开辟了新的内存空间。所以不可变对象作为左值参与 赋值语句是安全的。"
   ]
  },
  {
   "cell_type": "code",
   "execution_count": 4,
   "metadata": {
    "scrolled": true
   },
   "outputs": [
    {
     "name": "stdout",
     "output_type": "stream",
     "text": [
      "2292102795784 2292102795784\n",
      "[1, 2, 3, 4]\n",
      "2292104153272 2292104334728\n",
      "zhang\n"
     ]
    }
   ],
   "source": [
    "#可变对象与不可变对象作为左值参与赋值语句\n",
    "list1=[1,2,3]\n",
    "list2=list1\n",
    "print(id(list1),id(list2))\n",
    "list2.append(4)\n",
    "print(list1)\n",
    "\n",
    "string1=\"zhang\"\n",
    "string2=\"liu\"\n",
    "print(id(string1),id(string2))\n",
    "string2.upper()\n",
    "print(string1)\n",
    "\n"
   ]
  },
  {
   "cell_type": "markdown",
   "metadata": {},
   "source": [
    "## 5numpy中的容器类型\n",
    "numpy中的容器类型，都是不可变类型，防止了数据无意更改的问题。"
   ]
  },
  {
   "cell_type": "code",
   "execution_count": null,
   "metadata": {},
   "outputs": [],
   "source": [
    "#eg3\n",
    "import numpy as np\n",
    "a=np.array([1,2,3])\n",
    "def change1(myArray):\n",
    "    myArray.reshape(-1,1)\n",
    "    print(\"In the function:\",myArray)\n",
    "change1(a)\n",
    "print(a)"
   ]
  },
  {
   "cell_type": "markdown",
   "metadata": {},
   "source": [
    "## 6对象自己的函数\n",
    "可变对象在执行自己的函数时，已经发生了改变。使用赋值语句没有意义。\n",
    "不可变对象在执行自己的函数时，同执行自定义函数一样，不会对原内存空间进行改变。所以需要使用赋值语句对不可变对象进行改变。"
   ]
  },
  {
   "cell_type": "code",
   "execution_count": null,
   "metadata": {},
   "outputs": [],
   "source": [
    "myString=\"zhang\"\n",
    "myList=[1,2,3]\n",
    "\n",
    "myString.upper()\n",
    "print(myString)\n",
    "myString=myString.upper()\n",
    "print(myString)\n",
    "\n",
    "myList.append(4)\n",
    "print(myList)\n",
    "myList=myList.append(5)\n",
    "print(myList)\n",
    "\n",
    "\n"
   ]
  }
 ],
 "metadata": {
  "kernelspec": {
   "display_name": "Python 3",
   "language": "python",
   "name": "python3"
  },
  "language_info": {
   "codemirror_mode": {
    "name": "ipython",
    "version": 3
   },
   "file_extension": ".py",
   "mimetype": "text/x-python",
   "name": "python",
   "nbconvert_exporter": "python",
   "pygments_lexer": "ipython3",
   "version": "3.7.3"
  }
 },
 "nbformat": 4,
 "nbformat_minor": 2
}
